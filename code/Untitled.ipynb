{
 "cells": [
  {
   "cell_type": "code",
   "execution_count": 7,
   "id": "8fe8fac9-8e8d-426d-a7d0-d1720f6d0761",
   "metadata": {},
   "outputs": [],
   "source": [
    "from insw20 import insw20b\n"
   ]
  },
  {
   "cell_type": "code",
   "execution_count": 8,
   "id": "ee78979f-9eac-4254-844f-00ed93fbefc7",
   "metadata": {},
   "outputs": [],
   "source": [
    "uu1, vv1, eta1, uu2, vv2, eta2 = insw20b()\n"
   ]
  },
  {
   "cell_type": "code",
   "execution_count": 9,
   "id": "83bf2aa6-5b4d-4c73-99e7-4f4edba63b5a",
   "metadata": {},
   "outputs": [
    {
     "name": "stdout",
     "output_type": "stream",
     "text": [
      "uu1: [[ 1.08155477e-137  3.12107659e-136 -9.53844947e-134]\n",
      " [ 2.57689784e-135  1.90562302e-133  5.37725457e-132]\n",
      " [ 4.56903979e-133  4.17416783e-131  2.87701654e-129]]\n",
      "vv1: [[-1.08155477e-137 -3.17061749e-136  9.84614139e-134]\n",
      " [-2.53663381e-135 -1.90562302e-133 -5.46398448e-132]\n",
      " [-4.42625729e-133 -4.10791120e-131 -2.87701654e-129]]\n",
      "eta1: [[-2.05690784e-134 -6.90095322e-133  1.45583251e-130]\n",
      " [-4.58803007e-132 -3.37979419e-130 -1.09287952e-128]\n",
      " [-7.71430949e-130 -6.90627209e-128 -4.72270988e-126]]\n",
      "uu2: [[ 0.  0. -0.]\n",
      " [ 0.  0.  0.]\n",
      " [ 0.  0.  0.]]\n",
      "vv2: [[-0. -0.  0.]\n",
      " [-0. -0. -0.]\n",
      " [-0. -0. -0.]]\n",
      "eta2: [[ 8.99897181e-135  3.01916703e-133 -6.36926723e-131]\n",
      " [ 2.00726315e-132  1.47865996e-130  4.78134791e-129]\n",
      " [ 3.37501040e-130  3.02149404e-128  2.06618557e-126]]\n"
     ]
    }
   ],
   "source": [
    "print(\"uu1:\", uu1[:3, :3])\n",
    "print(\"vv1:\", vv1[:3, :3])\n",
    "print(\"eta1:\", eta1[:3, :3])\n",
    "print(\"uu2:\", uu2[:3, :3])\n",
    "print(\"vv2:\", vv2[:3, :3])\n",
    "print(\"eta2:\", eta2[:3, :3])\n"
   ]
  },
  {
   "cell_type": "code",
   "execution_count": null,
   "id": "0643ac4a-9e42-4470-b7a8-933f26acfca0",
   "metadata": {},
   "outputs": [],
   "source": []
  }
 ],
 "metadata": {
  "kernelspec": {
   "display_name": "Python 3 (ipykernel)",
   "language": "python",
   "name": "python3"
  },
  "language_info": {
   "codemirror_mode": {
    "name": "ipython",
    "version": 3
   },
   "file_extension": ".py",
   "mimetype": "text/x-python",
   "name": "python",
   "nbconvert_exporter": "python",
   "pygments_lexer": "ipython3",
   "version": "3.9.18"
  }
 },
 "nbformat": 4,
 "nbformat_minor": 5
}
